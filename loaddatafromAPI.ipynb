{
 "cells": [
  {
   "cell_type": "code",
   "execution_count": 4,
   "id": "ffac077c-ae0b-4af0-afb9-75ffe0041da2",
   "metadata": {},
   "outputs": [],
   "source": [
    "import requests"
   ]
  },
  {
   "cell_type": "code",
   "execution_count": null,
   "id": "526cd77e-27ea-4dcd-82a4-0ade2a131ef8",
   "metadata": {},
   "outputs": [],
   "source": []
  },
  {
   "cell_type": "code",
   "execution_count": null,
   "id": "1d386573-8de1-4f09-b31f-2fd562c4cd5b",
   "metadata": {},
   "outputs": [],
   "source": []
  },
  {
   "cell_type": "code",
   "execution_count": 10,
   "id": "165bc71b-3c05-4768-9bc5-17e59a4de924",
   "metadata": {},
   "outputs": [
    {
     "name": "stdout",
     "output_type": "stream",
     "text": [
      "{'date': '2024-11-17', 'max_temp': 18.1, 'min_temp': 4.4, 'precipitation': 0.0}\n"
     ]
    }
   ],
   "source": [
    "import requests\n",
    "from datetime import datetime\n",
    "\n",
    "def get_weather_forecast(location_lat, location_lon, date):\n",
    "    \"\"\"\n",
    "    Fetch the weather forecast for a specific location and date using Open-Meteo API.\n",
    "    \n",
    "    Args:\n",
    "        location_lat (float): Latitude of the location.\n",
    "        location_lon (float): Longitude of the location.\n",
    "        date (str): The date for the forecast in 'YYYY-MM-DD' format.\n",
    "        \n",
    "    Returns:\n",
    "        dict: Weather forecast details if successful, or an error message.\n",
    "    \"\"\"\n",
    "    try:\n",
    "        # Base URL for Open-Meteo API\n",
    "        base_url = \"https://api.open-meteo.com/v1/forecast\"\n",
    "        \n",
    "        # Define query parameters\n",
    "        params = {\n",
    "            \"latitude\": location_lat,\n",
    "            \"longitude\": location_lon,\n",
    "            \"daily\": \"temperature_2m_max,temperature_2m_min,precipitation_sum\",\n",
    "            \"timezone\": \"auto\"  # Automatically adjust timezone based on location\n",
    "        }\n",
    "        \n",
    "        # Make the API request\n",
    "        response = requests.get(base_url, params=params)\n",
    "        response.raise_for_status()  # Raise an exception for HTTP errors\n",
    "        \n",
    "        # Parse the response JSON\n",
    "        weather_data = response.json()\n",
    "        \n",
    "        # Extract daily forecasts\n",
    "        daily_data = weather_data.get(\"daily\", {})\n",
    "        dates = daily_data.get(\"time\", [])\n",
    "        max_temps = daily_data.get(\"temperature_2m_max\", [])\n",
    "        min_temps = daily_data.get(\"temperature_2m_min\", [])\n",
    "        precipitations = daily_data.get(\"precipitation_sum\", [])\n",
    "        \n",
    "        # Find the index of the requested date\n",
    "        if date in dates:\n",
    "            index = dates.index(date)\n",
    "            return {\n",
    "                \"date\": date,\n",
    "                \"max_temp\": max_temps[index],\n",
    "                \"min_temp\": min_temps[index],\n",
    "                \"precipitation\": precipitations[index]\n",
    "            }\n",
    "        \n",
    "        # If the date is not found in the response\n",
    "        return {\"error\": \"No forecast available for the specified date.\"}\n",
    "    \n",
    "    except requests.exceptions.RequestException as e:\n",
    "        return {\"error\": str(e)}\n",
    "\n",
    "# Example usage\n",
    "if __name__ == \"__main__\":\n",
    "    location_lat = 40.7128  # Latitude for New York City\n",
    "    location_lon = -74.0060  # Longitude for New York City\n",
    "    date = \"2024-11-17\"\n",
    "    forecast = get_weather_forecast(location_lat, location_lon, date)\n",
    "    print(forecast)"
   ]
  },
  {
   "cell_type": "code",
   "execution_count": null,
   "id": "b1684c45-c3ad-4c81-8e9e-b95fbb5c6b8b",
   "metadata": {},
   "outputs": [],
   "source": []
  }
 ],
 "metadata": {
  "kernelspec": {
   "display_name": "Python 3 (ipykernel)",
   "language": "python",
   "name": "python3"
  },
  "language_info": {
   "codemirror_mode": {
    "name": "ipython",
    "version": 3
   },
   "file_extension": ".py",
   "mimetype": "text/x-python",
   "name": "python",
   "nbconvert_exporter": "python",
   "pygments_lexer": "ipython3",
   "version": "3.12.7"
  }
 },
 "nbformat": 4,
 "nbformat_minor": 5
}
