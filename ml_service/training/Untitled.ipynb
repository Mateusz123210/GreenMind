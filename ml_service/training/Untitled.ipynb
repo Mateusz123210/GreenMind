{
 "cells": [
  {
   "cell_type": "code",
   "execution_count": 3,
   "id": "982eff35-900b-4e0f-8106-d9f4737e63c1",
   "metadata": {},
   "outputs": [
    {
     "name": "stdout",
     "output_type": "stream",
     "text": [
      "                timestamp  id  temperature  illuminance  moisture\n",
      "0     2024-11-27 21:48:51   1       22.812           17       327\n",
      "1     2024-11-27 21:49:01   1       22.875           17       328\n",
      "2     2024-11-27 21:56:37   1       22.750           16       327\n",
      "3     2024-11-27 21:59:20   1       22.750           17       327\n",
      "4     2024-11-27 22:00:47   1       22.750           18       326\n",
      "...                   ...  ..          ...          ...       ...\n",
      "23529 2024-12-16 19:43:29   1       18.625            1       842\n",
      "23530 2024-12-16 19:44:29   1       18.625            1       885\n",
      "23531 2024-12-16 19:45:30   1       18.562            1       783\n",
      "23532 2024-12-16 19:46:30   1       18.562            1       795\n",
      "23533 2024-12-16 19:47:31   1       18.750            1       956\n",
      "\n",
      "[23534 rows x 5 columns]\n"
     ]
    }
   ],
   "source": [
    "import pandas as pd\n",
    "import json\n",
    "\n",
    "# Define the file path\n",
    "file_path = \"sensor_data_3.json\"\n",
    "\n",
    "# Load the JSON data into a Pandas DataFrame\n",
    "def load_sensor_data_to_dataframe(file_path):\n",
    "    with open(file_path, 'r') as file:\n",
    "        # Read all lines from the file and parse JSON\n",
    "        data = [json.loads(line.replace(\"'\", '\"')) for line in file]\n",
    "        \n",
    "    # Convert the list of dictionaries to a DataFrame\n",
    "    df = pd.DataFrame(data)\n",
    "    \n",
    "    # Convert timestamp to a readable datetime format\n",
    "    df['timestamp'] = pd.to_datetime(df['timestamp'], unit='s')\n",
    "    \n",
    "    return df\n",
    "\n",
    "# Use the function to load the data\n",
    "df = load_sensor_data_to_dataframe(file_path)\n",
    "\n",
    "# Display the first few rows of the DataFrame\n",
    "print(df)\n"
   ]
  },
  {
   "cell_type": "code",
   "execution_count": null,
   "id": "4e0204dc-752c-4baf-9d4e-e9a8bdcb5a2b",
   "metadata": {},
   "outputs": [],
   "source": []
  }
 ],
 "metadata": {
  "kernelspec": {
   "display_name": "Python 3 (ipykernel)",
   "language": "python",
   "name": "python3"
  },
  "language_info": {
   "codemirror_mode": {
    "name": "ipython",
    "version": 3
   },
   "file_extension": ".py",
   "mimetype": "text/x-python",
   "name": "python",
   "nbconvert_exporter": "python",
   "pygments_lexer": "ipython3",
   "version": "3.12.7"
  }
 },
 "nbformat": 4,
 "nbformat_minor": 5
}
